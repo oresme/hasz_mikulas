{
 "cells": [
  {
   "cell_type": "markdown",
   "metadata": {},
   "source": [
    "**PRÓBA VERZIÓ!!!**"
   ]
  },
  {
   "cell_type": "markdown",
   "metadata": {},
   "source": [
    "Üdv!\n",
    "Ez a *juyter notebook* A HASZ Mikluás húzást bonyolítja le online.\n",
    "\n",
    "Szabályok: senkinek nem kellene tudni, hogy kit húztál. A nevet, amit a program adott, jegyezd meg, és **ne mondd el senkinek**!\n",
    "\n",
    "Két lépésből áll: *húzás* és *véglegesítés*.\n",
    "\n",
    "A *húzás* egy radnom nevet ad a névlistában (haszmikulasnevek.txt) lévő nevek közül. A *véglegesítés* kitörli a húzott nevet.\n",
    "\n",
    "A *húzást* és a *véglegesít* a \"Run\" gombbal tudud futtatni.\n",
    "\n",
    "A *húzást* akármennyiszer lefuttathatod (hogy ne húzza valaki véletlen saját magát), de a véglegesítést csak egyszer!\n",
    "\n",
    "\n",
    "Ha valami nem jó, írj a HASZ chatbe, vagy nekem: Gula Miklós (miklosgula@gmail.com)\n",
    "\n",
    "Kellemes húzást :)"
   ]
  },
  {
   "cell_type": "markdown",
   "metadata": {},
   "source": [
    "<Húzás:>  "
   ]
  },
  {
   "cell_type": "markdown",
   "metadata": {},
   "source": [
    "<u> Húzás: </u>"
   ]
  },
  {
   "cell_type": "code",
   "execution_count": 58,
   "metadata": {},
   "outputs": [
    {
     "name": "stdout",
     "output_type": "stream",
     "text": [
      "\n",
      "Őt húztad: Szende\n",
      "\n"
     ]
    }
   ],
   "source": [
    "#gods of bodging help us!\n",
    "\n",
    "from math import *\n",
    "from numpy import *\n",
    "from string import *\n",
    "from random import *\n",
    "\n",
    "nf=open('haszmikulasnevek.txt', 'r') #file path for name file\n",
    "nameslist=[] #list of names\n",
    "for line in nf:\n",
    "    #reading file in strings line by line, appending them to list\n",
    "    linestring=line\n",
    "    nameslist.append(linestring)\n",
    "    \n",
    "chosen_index=randint(0,((len(nameslist))-1)) #random integer from 0 to lenght of name list\n",
    "chosen_name=nameslist[chosen_index] #name indexed by the above random number\n",
    "\n",
    "nf.close()\n",
    "\n",
    "print('\\nŐt húztad: '+chosen_name)"
   ]
  },
  {
   "cell_type": "markdown",
   "metadata": {},
   "source": [
    "Nézd meg, hogy nem magadat húztad-e véletlen!"
   ]
  },
  {
   "cell_type": "markdown",
   "metadata": {},
   "source": [
    "<u> Véglegesítés: </u>"
   ]
  },
  {
   "cell_type": "code",
   "execution_count": 59,
   "metadata": {},
   "outputs": [],
   "source": [
    "nameslist.remove(chosen_name) #remove chosen name from list\n",
    "\n",
    "#here comes the dangerous part!\n",
    "\n",
    "nf=open('haszmikulasnevek.txt', 'w') #open file from writing: rewrites the whole list\n",
    "for name in nameslist:\n",
    "    #writing name strings into the file\n",
    "    nf.write(name)\n",
    "\n",
    "nf.close()    \n",
    "    "
   ]
  }
 ],
 "metadata": {
  "kernelspec": {
   "display_name": "Python 3",
   "language": "python",
   "name": "python3"
  },
  "language_info": {
   "codemirror_mode": {
    "name": "ipython",
    "version": 3
   },
   "file_extension": ".py",
   "mimetype": "text/x-python",
   "name": "python",
   "nbconvert_exporter": "python",
   "pygments_lexer": "ipython3",
   "version": "3.6.9"
  }
 },
 "nbformat": 4,
 "nbformat_minor": 2
}
